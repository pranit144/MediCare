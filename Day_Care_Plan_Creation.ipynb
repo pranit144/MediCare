{
  "nbformat": 4,
  "nbformat_minor": 0,
  "metadata": {
    "colab": {
      "provenance": []
    },
    "kernelspec": {
      "name": "python3",
      "display_name": "Python 3"
    },
    "language_info": {
      "name": "python"
    }
  },
  "cells": [
    {
      "cell_type": "code",
      "execution_count": null,
      "metadata": {
        "colab": {
          "base_uri": "https://localhost:8080/"
        },
        "id": "nQ1BUw8VpfHh",
        "outputId": "e6f611b9-0dd0-402f-9dec-b1d8bf8dbea8"
      },
      "outputs": [
        {
          "output_type": "stream",
          "name": "stdout",
          "text": [
            "Collecting groq\n",
            "  Downloading groq-0.18.0-py3-none-any.whl.metadata (14 kB)\n",
            "Requirement already satisfied: anyio<5,>=3.5.0 in /usr/local/lib/python3.11/dist-packages (from groq) (3.7.1)\n",
            "Requirement already satisfied: distro<2,>=1.7.0 in /usr/local/lib/python3.11/dist-packages (from groq) (1.9.0)\n",
            "Requirement already satisfied: httpx<1,>=0.23.0 in /usr/local/lib/python3.11/dist-packages (from groq) (0.28.1)\n",
            "Requirement already satisfied: pydantic<3,>=1.9.0 in /usr/local/lib/python3.11/dist-packages (from groq) (2.10.6)\n",
            "Requirement already satisfied: sniffio in /usr/local/lib/python3.11/dist-packages (from groq) (1.3.1)\n",
            "Requirement already satisfied: typing-extensions<5,>=4.10 in /usr/local/lib/python3.11/dist-packages (from groq) (4.12.2)\n",
            "Requirement already satisfied: idna>=2.8 in /usr/local/lib/python3.11/dist-packages (from anyio<5,>=3.5.0->groq) (3.10)\n",
            "Requirement already satisfied: certifi in /usr/local/lib/python3.11/dist-packages (from httpx<1,>=0.23.0->groq) (2025.1.31)\n",
            "Requirement already satisfied: httpcore==1.* in /usr/local/lib/python3.11/dist-packages (from httpx<1,>=0.23.0->groq) (1.0.7)\n",
            "Requirement already satisfied: h11<0.15,>=0.13 in /usr/local/lib/python3.11/dist-packages (from httpcore==1.*->httpx<1,>=0.23.0->groq) (0.14.0)\n",
            "Requirement already satisfied: annotated-types>=0.6.0 in /usr/local/lib/python3.11/dist-packages (from pydantic<3,>=1.9.0->groq) (0.7.0)\n",
            "Requirement already satisfied: pydantic-core==2.27.2 in /usr/local/lib/python3.11/dist-packages (from pydantic<3,>=1.9.0->groq) (2.27.2)\n",
            "Downloading groq-0.18.0-py3-none-any.whl (121 kB)\n",
            "\u001b[2K   \u001b[90m━━━━━━━━━━━━━━━━━━━━━━━━━━━━━━━━━━━━━━━━\u001b[0m \u001b[32m121.9/121.9 kB\u001b[0m \u001b[31m2.3 MB/s\u001b[0m eta \u001b[36m0:00:00\u001b[0m\n",
            "\u001b[?25hInstalling collected packages: groq\n",
            "Successfully installed groq-0.18.0\n"
          ]
        }
      ],
      "source": [
        "!pip install groq"
      ]
    },
    {
      "cell_type": "code",
      "source": [
        "import os\n",
        "from groq import Groq\n",
        "\n",
        "# Set your local audio file path\n",
        "AUDIO_PATH = \"/content/ElevenLabs_2025-02-22T21_09_38_Rachel_pre_s50_sb75_se0_b_m2.mp3\"  # Update with your actual file path\n",
        "\n",
        "# Initialize the Groq client\n",
        "client = Groq(api_key='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')\n",
        "\n",
        "def transcribe_audio():\n",
        "    \"\"\"Uses Groq's Whisper model to transcribe the audio file.\"\"\"\n",
        "    try:\n",
        "        # Open and read the audio file\n",
        "        with open(AUDIO_PATH, \"rb\") as file:\n",
        "            # Transcribe the audio file\n",
        "            transcription = client.audio.transcriptions.create(\n",
        "                file=(AUDIO_PATH, file.read()),  # Provide file as a tuple (name, data)\n",
        "                model=\"whisper-large-v3-turbo\",  # Use Whisper model\n",
        "                prompt=\"Specify context or spelling\",  # Optional prompt\n",
        "                response_format=\"json\",  # JSON output\n",
        "                language=\"en\",  # English transcription\n",
        "                temperature=0.0  # Default temperature\n",
        "            )\n",
        "\n",
        "        # Extract and return only the transcript text\n",
        "        return transcription.text\n",
        "\n",
        "    except Exception as e:\n",
        "        print(f\"Error transcribing audio: {e}\")\n",
        "        return None\n",
        "\n",
        "\n",
        "def main():\n",
        "    transcript = transcribe_audio()\n",
        "    if transcript:\n",
        "        print(transcript)  # Print only the transcribed text\n",
        "\n",
        "\n",
        "if __name__ == \"__main__\":\n",
        "    main()\n"
      ],
      "metadata": {
        "colab": {
          "base_uri": "https://localhost:8080/"
        },
        "id": "mQSNeuXqp0ay",
        "outputId": "d81afefe-6c31-4fd6-b692-1da47f28adce"
      },
      "execution_count": null,
      "outputs": [
        {
          "output_type": "stream",
          "name": "stdout",
          "text": [
            " Doctor Good morning, Mr. John. How have you been feeling lately? Patient Good morning, Doctor. I've been experiencing chest discomfort in the mornings, occasional shortness of breath, and sometimes I feel unusually fatigued throughout the day. Doctor I understand your concerns. With your history of heart disease, it's essential that we manage these symptoms carefully. First, let's talk about your medications. Are you taking your beta blocker and ACE inhibitor as prescribed? Patient I do take them, but sometimes I miss a dose when my schedule gets hectic. Doctor It's very important to take them consistently. I recommend setting a daily alarm at 7 a.m. so you can take your beta blocker with your breakfast. Speaking of breakfast, I suggest a heart-healthy meal like a bowl of oatmeal topped with fresh berries, a handful of almonds or walnuts, and a glass of low-fat milk. This combination will provide you with fiber, antioxidants, and essential nutrients without overloading your heart. Patient That sounds both nutritious and simple enough to follow. Doctor Excellent Now around mid say at 10 a you should have a light snack An apple or a pear is ideal and if you experience any discomfort you may take a small dose of aspirin as prescribed to help reduce the risk of blood clots Patient I understand, doctor. What about lunch? Doctor For lunch, which should be around 12.30 p.m., I recommend a balanced meal. Choose lean proteins like grilled chicken or fish, paired with steamed vegetables, such as broccoli, spinach, or carrots, and a serving of brown rice. Right after lunch, take your ACE inhibitor and allow yourself a brief rest, around 15 to 20 minutes, to help ease the workload on your heart. Patient. That makes sense. Doctor. In the afternoon, if you feel hungry, around 3 p.m., a small snack like a handful of unsalted nuts, a low-fat yogurt, or another piece of fruit will work well. Avoid processed foods or anything high in salt or sugar. Patient Got it. I'll try to stick to these choices. Doctor For dinner at 7 p.m., plan a light, heart-friendly meal. A vegetable soup rich in fiber paired with a mixed salad, lightly dressed with olive oil and vinegar, is a great option. Also take your diuretic medication about 30 minutes before dinner to manage any fluid retention Patient I see What else can I do to improve my heart health Doctor Apart from your diet and medications incorporating regular exercise is crucial. Aim for a 30-minute morning walk at a moderate pace. This not only helps with circulation, but also strengthens your heart over time. In the afternoon, consider 15 minutes of gentle stretching or yoga to improve flexibility and relieve stress. Patient. I've never been much of a morning walker, but I can try to make it a habit. Doctor. It might feel challenging initially, but even moderate activity can make a significant difference. Beyond physical activity, I recommend a few additional lifestyle modifications. Diet adjustments, limit your salt, saturated fats, and refined sugars. Emphasize fruits, vegetables, whole grains, and lean proteins Weight management Monitor your weight regularly and aim for a healthy body mass index A consultation with a nutritionist might help tailor a plan specific to you Stress management Practice relaxation techniques such as deep breathing, meditation, or even tai chi to help manage stress, which can worsen heart symptoms Sleep hygiene Ensure you get 7 hours of quality sleep per night A well rested body is better at managing stress and inflammation Lifestyle choices If you smoke consider quitting and limit alcohol consumption as both can negatively impact heart health Regular monitoring. Keep a daily journal to record your symptoms, diet, exercise and any side effects from medications. This will help us fine tune your treatment plan during follow ups. That's a lot to consider, but I appreciate the comprehensive approach. Doctor, managing heart disease is indeed a multifaceted process, but each step is important. By combining these dietary changes, regular exercise, and lifestyle modifications, you can significantly improve your heart function and overall well-being. Patient, I really appreciate all this information. It gives me a clear plan to follow. I'll start implementing these changes right away and keep a detailed log of my daily routine.\n"
          ]
        }
      ]
    },
    {
      "cell_type": "code",
      "source": [
        "!pip install reportlab"
      ],
      "metadata": {
        "colab": {
          "base_uri": "https://localhost:8080/"
        },
        "id": "uEwIm26DfBLl",
        "outputId": "066945b3-f29e-4e37-dc02-83106229f176"
      },
      "execution_count": null,
      "outputs": [
        {
          "output_type": "stream",
          "name": "stdout",
          "text": [
            "Collecting reportlab\n",
            "  Downloading reportlab-4.3.1-py3-none-any.whl.metadata (1.7 kB)\n",
            "Requirement already satisfied: pillow>=9.0.0 in /usr/local/lib/python3.11/dist-packages (from reportlab) (11.1.0)\n",
            "Requirement already satisfied: chardet in /usr/local/lib/python3.11/dist-packages (from reportlab) (5.2.0)\n",
            "Downloading reportlab-4.3.1-py3-none-any.whl (1.9 MB)\n",
            "\u001b[2K   \u001b[90m━━━━━━━━━━━━━━━━━━━━━━━━━━━━━━━━━━━━━━━━\u001b[0m \u001b[32m1.9/1.9 MB\u001b[0m \u001b[31m17.5 MB/s\u001b[0m eta \u001b[36m0:00:00\u001b[0m\n",
            "\u001b[?25hInstalling collected packages: reportlab\n",
            "Successfully installed reportlab-4.3.1\n"
          ]
        }
      ]
    },
    {
      "cell_type": "code",
      "source": [
        "from reportlab.lib.pagesizes import A4\n",
        "from reportlab.pdfgen import canvas\n",
        "from reportlab.lib import colors\n",
        "from reportlab.lib.styles import getSampleStyleSheet, ParagraphStyle\n",
        "from reportlab.platypus import SimpleDocTemplate, Paragraph, Spacer, Table, TableStyle\n",
        "\n",
        "def create_heart_care_daycare_plan(pdf_filename):\n",
        "    doc = SimpleDocTemplate(pdf_filename, pagesize=A4)\n",
        "    styles = getSampleStyleSheet()\n",
        "\n",
        "    # Custom Styles\n",
        "    title_style = ParagraphStyle(name=\"Title\", fontSize=16, spaceAfter=12, alignment=1, textColor=colors.darkblue)\n",
        "    section_style = ParagraphStyle(name=\"Section\", fontSize=12, spaceAfter=8, textColor=colors.black, leading=14)\n",
        "    normal_style = ParagraphStyle(name=\"Normal\", fontSize=10, spaceAfter=6, leading=12)\n",
        "\n",
        "    elements = []\n",
        "\n",
        "    # Title\n",
        "    elements.append(Paragraph(\"Complete Daycare Plan for Heart Care Patients\", title_style))\n",
        "    elements.append(Spacer(1, 12))\n",
        "\n",
        "    # Patient Details Table (Filled with Sample Data)\n",
        "    patient_details = [\n",
        "        [\"Patient Name:\", \"John Doe\"],\n",
        "        [\"Age:\", \"65\", \"Gender:\", \"Male\"],\n",
        "        [\"Medical Record No:\", \"HC-2025001\"]\n",
        "    ]\n",
        "\n",
        "    patient_table = Table(patient_details, colWidths=[120, 200, 80, 100])\n",
        "    patient_table.setStyle(TableStyle([\n",
        "        ('TEXTCOLOR', (0, 0), (-1, -1), colors.black),\n",
        "        ('FONTNAME', (0, 0), (-1, -1), 'Helvetica'),\n",
        "        ('BOTTOMPADDING', (0, 0), (-1, -1), 5)\n",
        "    ]))\n",
        "\n",
        "    elements.append(Paragraph(\"Patient Details:\", section_style))\n",
        "    elements.append(patient_table)\n",
        "    elements.append(Spacer(1, 12))\n",
        "\n",
        "    # Daily Routine Table\n",
        "    daily_routine = [\n",
        "        [\"Time\", \"Activity\"],\n",
        "        [\"6:30 AM\", \"Wake up and morning meditation\"],\n",
        "        [\"7:00 AM\", \"Healthy breakfast (Oats, Fruits, Green Tea)\"],\n",
        "        [\"8:00 AM\", \"Light exercise (15 min yoga, stretching)\"],\n",
        "        [\"9:00 AM\", \"Medication (Aspirin, Beta Blocker)\"],\n",
        "        [\"12:30 PM\", \"Lunch (Grilled Fish, Brown Rice, Steamed Vegetables)\"],\n",
        "        [\"2:00 PM\", \"Afternoon nap (30-45 minutes)\"],\n",
        "        [\"5:00 PM\", \"Evening walk (20 min slow-paced walk)\"],\n",
        "        [\"7:30 PM\", \"Dinner (Quinoa, Boiled Lentils, Salad)\"],\n",
        "        [\"10:00 PM\", \"Sleep\"]\n",
        "    ]\n",
        "\n",
        "    routine_table = Table(daily_routine, colWidths=[100, 350])\n",
        "    routine_table.setStyle(TableStyle([\n",
        "        ('GRID', (0, 0), (-1, -1), 0.5, colors.grey),\n",
        "        ('BACKGROUND', (0, 0), (-1, 0), colors.lightgrey),\n",
        "        ('FONTNAME', (0, 0), (-1, 0), 'Helvetica-Bold'),\n",
        "        ('TEXTCOLOR', (0, 0), (-1, 0), colors.black),\n",
        "        ('ALIGN', (0, 0), (-1, -1), 'LEFT')\n",
        "    ]))\n",
        "\n",
        "    elements.append(Paragraph(\"Daily Routine:\", section_style))\n",
        "    elements.append(routine_table)\n",
        "    elements.append(Spacer(1, 12))\n",
        "\n",
        "    # Diet Plan\n",
        "    elements.append(Paragraph(\"Diet Plan:\", section_style))\n",
        "    diet_plan = [\n",
        "        \"- Low-sodium, heart-friendly meals\",\n",
        "        \"- Fresh fruits, vegetables, and whole grains\",\n",
        "        \"- Lean proteins such as fish, tofu, and chicken\",\n",
        "        \"- Avoid processed and high-fat foods\",\n",
        "        \"- Hydration: Minimum 8 glasses of water daily\"\n",
        "    ]\n",
        "\n",
        "    for item in diet_plan:\n",
        "        elements.append(Paragraph(item, normal_style))\n",
        "\n",
        "    elements.append(Spacer(1, 12))\n",
        "\n",
        "    # Medication Schedule Table (Filled with Sample Medications)\n",
        "    medication_schedule = [\n",
        "        [\"Time\", \"Medication\"],\n",
        "        [\"Morning\", \"Aspirin 75mg, Atorvastatin 10mg\"],\n",
        "        [\"Afternoon\", \"Metoprolol 25mg\"],\n",
        "        [\"Night\", \"Losartan 50mg\"]\n",
        "    ]\n",
        "\n",
        "    medication_table = Table(medication_schedule, colWidths=[100, 350])\n",
        "    medication_table.setStyle(TableStyle([\n",
        "        ('GRID', (0, 0), (-1, -1), 0.5, colors.grey),\n",
        "        ('BACKGROUND', (0, 0), (-1, 0), colors.lightgrey),\n",
        "        ('FONTNAME', (0, 0), (-1, 0), 'Helvetica-Bold'),\n",
        "        ('TEXTCOLOR', (0, 0), (-1, 0), colors.black),\n",
        "        ('ALIGN', (0, 0), (-1, -1), 'LEFT')\n",
        "    ]))\n",
        "\n",
        "    elements.append(Paragraph(\"Medication Schedule:\", section_style))\n",
        "    elements.append(medication_table)\n",
        "    elements.append(Spacer(1, 12))\n",
        "\n",
        "    # Emergency Contacts Table (Filled with Sample Contact Details)\n",
        "    emergency_contacts = [\n",
        "        [\"Primary Caregiver:\", \"Jane Doe (Daughter)\"],\n",
        "        [\"Contact Number:\", \"+1 555-789-1234\"],\n",
        "        [\"Doctor's Name:\", \"Dr. Robert Smith\"],\n",
        "        [\"Hospital Contact:\", \"+1 555-456-7890\"]\n",
        "    ]\n",
        "\n",
        "    emergency_table = Table(emergency_contacts, colWidths=[150, 300])\n",
        "    emergency_table.setStyle(TableStyle([\n",
        "        ('TEXTCOLOR', (0, 0), (-1, -1), colors.black),\n",
        "        ('FONTNAME', (0, 0), (-1, -1), 'Helvetica'),\n",
        "        ('BOTTOMPADDING', (0, 0), (-1, -1), 5)\n",
        "    ]))\n",
        "\n",
        "    elements.append(Paragraph(\"Emergency Contacts:\", section_style))\n",
        "    elements.append(emergency_table)\n",
        "    elements.append(Spacer(1, 12))\n",
        "\n",
        "    # Generate PDF\n",
        "    doc.build(elements)\n",
        "    print(f\"✅ PDF '{pdf_filename}' created successfully!\")\n",
        "\n",
        "# Call function to generate the PDF\n",
        "create_heart_care_daycare_plan(\"Heart_Care_Daycare_Plan.pdf\")\n"
      ],
      "metadata": {
        "colab": {
          "base_uri": "https://localhost:8080/"
        },
        "id": "Us1UO0lgqcOu",
        "outputId": "da1a3964-ed35-4ec2-fcfe-6f616260442c"
      },
      "execution_count": null,
      "outputs": [
        {
          "output_type": "stream",
          "name": "stdout",
          "text": [
            "✅ PDF 'Heart_Care_Daycare_Plan.pdf' created successfully!\n"
          ]
        }
      ]
    },
    {
      "cell_type": "code",
      "source": [],
      "metadata": {
        "id": "SoCUF-IKe_Gu"
      },
      "execution_count": null,
      "outputs": []
    }
  ]
}